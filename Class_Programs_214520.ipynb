{
  "nbformat": 4,
  "nbformat_minor": 0,
  "metadata": {
    "colab": {
      "name": "Class_Programs_214520.ipynb",
      "provenance": [],
      "collapsed_sections": []
    },
    "kernelspec": {
      "name": "python3",
      "display_name": "Python 3"
    },
    "language_info": {
      "name": "python"
    }
  },
  "cells": [
    {
      "cell_type": "code",
      "source": [
        "# The calculates the rate of interest\n",
        "# a = p + si \n",
        "# a = p + (prt/100)\n",
        "# a - p = prt/100\n",
        "p = float(input('P = '))\n",
        "a = float(input('A = ')) \n",
        "t = float(input('T = ')) \n",
        "r = ((a - p) * 100) / (p * t)\n",
        "print(r)"
      ],
      "metadata": {
        "colab": {
          "base_uri": "https://localhost:8080/"
        },
        "id": "uoEsl4xB-LuU",
        "outputId": "1047a048-fd0e-4bfb-c698-114b7a536b72"
      },
      "execution_count": null,
      "outputs": [
        {
          "output_type": "stream",
          "name": "stdout",
          "text": [
            "P = 4\n",
            "A = 10\n",
            "T = 50\n",
            "3.0\n"
          ]
        }
      ]
    },
    {
      "cell_type": "code",
      "source": [
        "\n",
        "\n",
        "'l' + \"'\" + 'argent'"
      ],
      "metadata": {
        "colab": {
          "base_uri": "https://localhost:8080/",
          "height": 35
        },
        "id": "ievilCTaMtip",
        "outputId": "542afb17-103a-4112-be80-9d6987b28cb8"
      },
      "execution_count": null,
      "outputs": [
        {
          "output_type": "execute_result",
          "data": {
            "application/vnd.google.colaboratory.intrinsic+json": {
              "type": "string"
            },
            "text/plain": [
              "\"l'argent\""
            ]
          },
          "metadata": {},
          "execution_count": 11
        }
      ]
    },
    {
      "cell_type": "code",
      "source": [
        "r = float(input('R = ')) \n",
        "t1 = float(input('Larger Time = ')) \n",
        "t2 = float(input('Shorter Time = ')) \n",
        "dif = float(input('Difference between interests : '))\n",
        "\n",
        "si1 = (p*r*t1)/100\n",
        "si2 = (p*r*t2)/100\n",
        "# calculation of the formula\n",
        "#dif = si1 - si2\n",
        "#dif = (p*r*t1)/100 - (p*r*t2)/100\n",
        "#dif = pr/100 (t1 - t2)\n",
        "p = (dif / r * (t1 - t2)) * 100\n",
        "print(p)\n",
        "\n"
      ],
      "metadata": {
        "colab": {
          "base_uri": "https://localhost:8080/"
        },
        "id": "tw8tqldo_9Qt",
        "outputId": "9b517fe1-9de9-4194-fdfc-7dbf2ed3ceb5"
      },
      "execution_count": null,
      "outputs": [
        {
          "output_type": "stream",
          "name": "stdout",
          "text": [
            "R = 10\n",
            "Larger Time = 7\n",
            "Shorter Time = 6\n",
            "Difference between interests : 650\n",
            "6500.0\n"
          ]
        }
      ]
    },
    {
      "cell_type": "code",
      "source": [
        "# The first pair of rate and time\n",
        "r1 = float(input('R1 = '))\n",
        "t1 = float(input('T1 = '))\n",
        "\n",
        "# The second pair of rate and time\n",
        "\n",
        "r2 = float(input('R2 = '))  \n",
        "t2 = float(input('T2 = ')) \n",
        "dif = float(input('Differenceb between interests '))\n",
        "\n",
        "#si = prt/100\n",
        "#diff = si1 - si2\n",
        "#dif = p*r1*t1/100  - p*r2*t2/100\n",
        "t1 = t1/12\n",
        "t2 = t2/12\n",
        "\n",
        "p = (dif * 100) / (r1*t1 - r2*t2)\n",
        "print(p)\n",
        "\n"
      ],
      "metadata": {
        "id": "OhwoDm7uC1Vc",
        "colab": {
          "base_uri": "https://localhost:8080/"
        },
        "outputId": "eb16f4e2-e3c7-4a48-a24e-816f7d6a56a7"
      },
      "execution_count": null,
      "outputs": [
        {
          "output_type": "stream",
          "name": "stdout",
          "text": [
            "R1 = 4\n",
            "T1 = 13\n",
            "R2 = 6\n",
            "T2 = 8\n",
            "Differenceb between interests40\n",
            "12000.000000000011\n"
          ]
        }
      ]
    },
    {
      "cell_type": "code",
      "source": [
        "#leap year checker\n",
        "year = int(input('Enter the year : '))\n",
        "\n",
        "if (year % 4 == 0) :\n",
        "  print('It is a leap year')\n",
        "else :\n",
        "  print('It is not a leap year')"
      ],
      "metadata": {
        "colab": {
          "base_uri": "https://localhost:8080/"
        },
        "id": "afVngf8bBIIK",
        "outputId": "f5fa86f3-050f-4cb9-8457-1ccfcc65cd69"
      },
      "execution_count": null,
      "outputs": [
        {
          "output_type": "stream",
          "name": "stdout",
          "text": [
            "Enter the year2021\n",
            "It is not a leap year\n"
          ]
        }
      ]
    },
    {
      "cell_type": "code",
      "source": [
        "palindrome checker\n",
        "def palin(word):  \n",
        "  reverse = word[::-1]\n",
        "  if word == reverse:\n",
        "    print ('Your input is a palindromic segment')\n",
        "  else:\n",
        "    print('Your input is not a palindromic segment')\n",
        "\n",
        "word = input('Enter : ')\n",
        "\n",
        "palin(word)"
      ],
      "metadata": {
        "id": "Pp2vIxOpyxdi"
      },
      "execution_count": null,
      "outputs": []
    },
    {
      "cell_type": "code",
      "source": [
        "#Function to calculate the elasticity\n",
        "def elast(price1,amount1,price2,amount2):\n",
        "  elasticity = (amount2 - amount1) / (price2 - price1)\n",
        "  return (elasticity)\n",
        "\n",
        "#Function to Identify the character of the product based on the elasticity\n",
        "def character_elast(elasticity):\n",
        "  if elasticity == 0 : \n",
        "    return 'Perfectly Inelastic'\n",
        "  elif elasticity < 1 :\n",
        "    return 'Relatively inelastic'\n",
        "  elif elasticity == 1 : \n",
        "    return 'Unit Elastic'\n",
        "  elif elasticity > 1 : \n",
        "    return 'Relatively Elastic'\n",
        "\n",
        "#Getting inputs\n",
        "price1 = float(input('Enter the prior price : '))\n",
        "amount1 = float(input('Enter the prior amount : '))\n",
        "price2 = float(input('Enter the latter price : '))\n",
        "amount2 = float(input('Enter the latter amount : '))\n",
        "\n",
        "#Calling function to calculate the elasticity of the product\n",
        "elasticity = elast(price1,amount1,price2,amount2)\n",
        "print('Elasticity = ',elasticity)\n",
        "\n",
        "#Caling function to get the character of product\n",
        "character = character_elast(elasticity)\n",
        "print('Character of product = ', character)\n",
        "\n",
        "\n"
      ],
      "metadata": {
        "id": "VlLNzfhXyyFK"
      },
      "execution_count": null,
      "outputs": []
    },
    {
      "cell_type": "code",
      "source": [
        "#printing the table of the input\n",
        "\n",
        "num = float(input('Enter the number, you want the table of : '))\n",
        "end = float(input('Enter the multiple, till what you want the table : '))\n",
        "i = 1\n",
        "while  i <= end : \n",
        "  x = num * i\n",
        "  print(num,'  *  ',i,'  =  ',x)\n",
        "  i=i+1"
      ],
      "metadata": {
        "id": "D_NWPOa9y48v"
      },
      "execution_count": null,
      "outputs": []
    }
  ]
}